{
  "nbformat": 4,
  "nbformat_minor": 0,
  "metadata": {
    "colab": {
      "name": "04_mediasContaminantesIndividuales.ipynb",
      "provenance": [],
      "mount_file_id": "1-s6CUVWBzh2LxGykdZQJWUoUF7zhZtEZ",
      "authorship_tag": "ABX9TyNoWDw9ETTBbeO7HFpNNryW"
    },
    "kernelspec": {
      "name": "python3",
      "display_name": "Python 3"
    },
    "language_info": {
      "name": "python"
    }
  },
  "cells": [
    {
      "cell_type": "code",
      "execution_count": null,
      "metadata": {
        "id": "hwVR29N1yn_H"
      },
      "outputs": [],
      "source": [
        "import pandas as pd"
      ]
    },
    {
      "cell_type": "code",
      "source": [
        "path= '/content/drive/MyDrive/UPIITA/CONTAMYMETEOROLOGIA/contaminantes/'\n",
        "localPath= 'mediaspormes/'"
      ],
      "metadata": {
        "id": "GOF9gaya0igT"
      },
      "execution_count": null,
      "outputs": []
    },
    {
      "cell_type": "markdown",
      "source": [
        "MEDICIONES POR ELEMENTOS\n"
      ],
      "metadata": {
        "id": "VhlxQNV10OVP"
      }
    },
    {
      "cell_type": "code",
      "source": [
        "df=pd.read_csv(path + localPath + 'mediasContaminantesCoordenadas.csv',encoding='latin-1',parse_dates=[\"date\"])\n",
        "df.head()\n"
      ],
      "metadata": {
        "colab": {
          "base_uri": "https://localhost:8080/",
          "height": 206
        },
        "id": "flCOT-aZ0Lp3",
        "outputId": "7f772a62-6112-408c-e3b1-6cd8ae8c2d55"
      },
      "execution_count": null,
      "outputs": [
        {
          "output_type": "execute_result",
          "data": {
            "text/plain": [
              "        date id_parameter      value  unit cve_estac nom_estac   longitud  \\\n",
              "0 2021-01-31           CO   0.363771  15.0       ACO   Acolman -98.912003   \n",
              "1 2021-01-31           NO  10.666551   1.0       ACO   Acolman -98.912003   \n",
              "2 2021-01-31          NO2  19.738866   1.0       ACO   Acolman -98.912003   \n",
              "3 2021-01-31          NOX  30.712201   1.0       ACO   Acolman -98.912003   \n",
              "4 2021-01-31           O3  31.176280   1.0       ACO   Acolman -98.912003   \n",
              "\n",
              "     latitud     alt obs_estac  \n",
              "0  19.635501  2198.0       NaN  \n",
              "1  19.635501  2198.0       NaN  \n",
              "2  19.635501  2198.0       NaN  \n",
              "3  19.635501  2198.0       NaN  \n",
              "4  19.635501  2198.0       NaN  "
            ],
            "text/html": [
              "\n",
              "  <div id=\"df-6c17b946-309d-49a0-a70b-1fea04a2205f\">\n",
              "    <div class=\"colab-df-container\">\n",
              "      <div>\n",
              "<style scoped>\n",
              "    .dataframe tbody tr th:only-of-type {\n",
              "        vertical-align: middle;\n",
              "    }\n",
              "\n",
              "    .dataframe tbody tr th {\n",
              "        vertical-align: top;\n",
              "    }\n",
              "\n",
              "    .dataframe thead th {\n",
              "        text-align: right;\n",
              "    }\n",
              "</style>\n",
              "<table border=\"1\" class=\"dataframe\">\n",
              "  <thead>\n",
              "    <tr style=\"text-align: right;\">\n",
              "      <th></th>\n",
              "      <th>date</th>\n",
              "      <th>id_parameter</th>\n",
              "      <th>value</th>\n",
              "      <th>unit</th>\n",
              "      <th>cve_estac</th>\n",
              "      <th>nom_estac</th>\n",
              "      <th>longitud</th>\n",
              "      <th>latitud</th>\n",
              "      <th>alt</th>\n",
              "      <th>obs_estac</th>\n",
              "    </tr>\n",
              "  </thead>\n",
              "  <tbody>\n",
              "    <tr>\n",
              "      <th>0</th>\n",
              "      <td>2021-01-31</td>\n",
              "      <td>CO</td>\n",
              "      <td>0.363771</td>\n",
              "      <td>15.0</td>\n",
              "      <td>ACO</td>\n",
              "      <td>Acolman</td>\n",
              "      <td>-98.912003</td>\n",
              "      <td>19.635501</td>\n",
              "      <td>2198.0</td>\n",
              "      <td>NaN</td>\n",
              "    </tr>\n",
              "    <tr>\n",
              "      <th>1</th>\n",
              "      <td>2021-01-31</td>\n",
              "      <td>NO</td>\n",
              "      <td>10.666551</td>\n",
              "      <td>1.0</td>\n",
              "      <td>ACO</td>\n",
              "      <td>Acolman</td>\n",
              "      <td>-98.912003</td>\n",
              "      <td>19.635501</td>\n",
              "      <td>2198.0</td>\n",
              "      <td>NaN</td>\n",
              "    </tr>\n",
              "    <tr>\n",
              "      <th>2</th>\n",
              "      <td>2021-01-31</td>\n",
              "      <td>NO2</td>\n",
              "      <td>19.738866</td>\n",
              "      <td>1.0</td>\n",
              "      <td>ACO</td>\n",
              "      <td>Acolman</td>\n",
              "      <td>-98.912003</td>\n",
              "      <td>19.635501</td>\n",
              "      <td>2198.0</td>\n",
              "      <td>NaN</td>\n",
              "    </tr>\n",
              "    <tr>\n",
              "      <th>3</th>\n",
              "      <td>2021-01-31</td>\n",
              "      <td>NOX</td>\n",
              "      <td>30.712201</td>\n",
              "      <td>1.0</td>\n",
              "      <td>ACO</td>\n",
              "      <td>Acolman</td>\n",
              "      <td>-98.912003</td>\n",
              "      <td>19.635501</td>\n",
              "      <td>2198.0</td>\n",
              "      <td>NaN</td>\n",
              "    </tr>\n",
              "    <tr>\n",
              "      <th>4</th>\n",
              "      <td>2021-01-31</td>\n",
              "      <td>O3</td>\n",
              "      <td>31.176280</td>\n",
              "      <td>1.0</td>\n",
              "      <td>ACO</td>\n",
              "      <td>Acolman</td>\n",
              "      <td>-98.912003</td>\n",
              "      <td>19.635501</td>\n",
              "      <td>2198.0</td>\n",
              "      <td>NaN</td>\n",
              "    </tr>\n",
              "  </tbody>\n",
              "</table>\n",
              "</div>\n",
              "      <button class=\"colab-df-convert\" onclick=\"convertToInteractive('df-6c17b946-309d-49a0-a70b-1fea04a2205f')\"\n",
              "              title=\"Convert this dataframe to an interactive table.\"\n",
              "              style=\"display:none;\">\n",
              "        \n",
              "  <svg xmlns=\"http://www.w3.org/2000/svg\" height=\"24px\"viewBox=\"0 0 24 24\"\n",
              "       width=\"24px\">\n",
              "    <path d=\"M0 0h24v24H0V0z\" fill=\"none\"/>\n",
              "    <path d=\"M18.56 5.44l.94 2.06.94-2.06 2.06-.94-2.06-.94-.94-2.06-.94 2.06-2.06.94zm-11 1L8.5 8.5l.94-2.06 2.06-.94-2.06-.94L8.5 2.5l-.94 2.06-2.06.94zm10 10l.94 2.06.94-2.06 2.06-.94-2.06-.94-.94-2.06-.94 2.06-2.06.94z\"/><path d=\"M17.41 7.96l-1.37-1.37c-.4-.4-.92-.59-1.43-.59-.52 0-1.04.2-1.43.59L10.3 9.45l-7.72 7.72c-.78.78-.78 2.05 0 2.83L4 21.41c.39.39.9.59 1.41.59.51 0 1.02-.2 1.41-.59l7.78-7.78 2.81-2.81c.8-.78.8-2.07 0-2.86zM5.41 20L4 18.59l7.72-7.72 1.47 1.35L5.41 20z\"/>\n",
              "  </svg>\n",
              "      </button>\n",
              "      \n",
              "  <style>\n",
              "    .colab-df-container {\n",
              "      display:flex;\n",
              "      flex-wrap:wrap;\n",
              "      gap: 12px;\n",
              "    }\n",
              "\n",
              "    .colab-df-convert {\n",
              "      background-color: #E8F0FE;\n",
              "      border: none;\n",
              "      border-radius: 50%;\n",
              "      cursor: pointer;\n",
              "      display: none;\n",
              "      fill: #1967D2;\n",
              "      height: 32px;\n",
              "      padding: 0 0 0 0;\n",
              "      width: 32px;\n",
              "    }\n",
              "\n",
              "    .colab-df-convert:hover {\n",
              "      background-color: #E2EBFA;\n",
              "      box-shadow: 0px 1px 2px rgba(60, 64, 67, 0.3), 0px 1px 3px 1px rgba(60, 64, 67, 0.15);\n",
              "      fill: #174EA6;\n",
              "    }\n",
              "\n",
              "    [theme=dark] .colab-df-convert {\n",
              "      background-color: #3B4455;\n",
              "      fill: #D2E3FC;\n",
              "    }\n",
              "\n",
              "    [theme=dark] .colab-df-convert:hover {\n",
              "      background-color: #434B5C;\n",
              "      box-shadow: 0px 1px 3px 1px rgba(0, 0, 0, 0.15);\n",
              "      filter: drop-shadow(0px 1px 2px rgba(0, 0, 0, 0.3));\n",
              "      fill: #FFFFFF;\n",
              "    }\n",
              "  </style>\n",
              "\n",
              "      <script>\n",
              "        const buttonEl =\n",
              "          document.querySelector('#df-6c17b946-309d-49a0-a70b-1fea04a2205f button.colab-df-convert');\n",
              "        buttonEl.style.display =\n",
              "          google.colab.kernel.accessAllowed ? 'block' : 'none';\n",
              "\n",
              "        async function convertToInteractive(key) {\n",
              "          const element = document.querySelector('#df-6c17b946-309d-49a0-a70b-1fea04a2205f');\n",
              "          const dataTable =\n",
              "            await google.colab.kernel.invokeFunction('convertToInteractive',\n",
              "                                                     [key], {});\n",
              "          if (!dataTable) return;\n",
              "\n",
              "          const docLinkHtml = 'Like what you see? Visit the ' +\n",
              "            '<a target=\"_blank\" href=https://colab.research.google.com/notebooks/data_table.ipynb>data table notebook</a>'\n",
              "            + ' to learn more about interactive tables.';\n",
              "          element.innerHTML = '';\n",
              "          dataTable['output_type'] = 'display_data';\n",
              "          await google.colab.output.renderOutput(dataTable, element);\n",
              "          const docLink = document.createElement('div');\n",
              "          docLink.innerHTML = docLinkHtml;\n",
              "          element.appendChild(docLink);\n",
              "        }\n",
              "      </script>\n",
              "    </div>\n",
              "  </div>\n",
              "  "
            ]
          },
          "metadata": {},
          "execution_count": 3
        }
      ]
    },
    {
      "cell_type": "markdown",
      "source": [
        "GENERAMOS UNA FUNCIÓN PARA QUE SE HAGAN LOS CÁLCULOS POR ELEMENTO Y AL \n",
        "MISMO TIEMPO GUARDE EL RESULTADO EN UN ARCHIVO SEPARADO POR CADA CONTAMINANTE"
      ],
      "metadata": {
        "id": "gz3sjvc91Veg"
      }
    },
    {
      "cell_type": "code",
      "source": [
        "elementos= df['id_parameter'].unique()\n",
        "elementos\n"
      ],
      "metadata": {
        "colab": {
          "base_uri": "https://localhost:8080/"
        },
        "id": "DIo6D3XS1BbX",
        "outputId": "92a75af5-e26c-4bc7-e26e-a22ac10fec6c"
      },
      "execution_count": null,
      "outputs": [
        {
          "output_type": "execute_result",
          "data": {
            "text/plain": [
              "array(['CO', 'NO', 'NO2', 'NOX', 'O3', 'PM10', 'SO2', 'PM2.5', 'PMCO'],\n",
              "      dtype=object)"
            ]
          },
          "metadata": {},
          "execution_count": 4
        }
      ]
    },
    {
      "cell_type": "code",
      "source": [
        "def media_elemento_estacion(elemento): \n",
        "    filter = df['id_parameter']== elemento\n",
        "    so2filter=df[filter]\n",
        "    so2filter\n",
        "    so2_grp = so2filter.groupby('cve_estac')\n",
        "    #so2_week = so2filter.groupby([so2filter['date'].dt.isocalendar().week,'cve_estac'])['value'].mean()\n",
        "    so2_media = so2_grp['value'].agg(['mean','max','min','std'])\n",
        "    #so2_media = so2_grp['value'].agg(['mean'])\n",
        "    so2_media\n",
        "    df_indiv=pd.DataFrame()\n",
        "    df_indiv ['cve_estac']=df['cve_estac'].unique()\n",
        "    df_indiv['latitud']=df['latitud'].unique()\n",
        "    df_indiv['longitud']=df['longitud'].unique()\n",
        "    df_indiv = df_indiv.merge(so2_media, on='cve_estac', how='left').dropna()\n",
        "    ##Para análisis en GIS\n",
        "    df_indiv.to_csv(path + localPath +elemento +'_mediaPorEstacion3.csv',index=False)#para que no se agregue el índice de cada archiv\n",
        "   \n",
        "   "
      ],
      "metadata": {
        "id": "HY1rtfuu1dKP"
      },
      "execution_count": null,
      "outputs": []
    },
    {
      "cell_type": "code",
      "source": [
        "#Ejecutar por cada elemento o bien en un for\n",
        "media_elemento_estacion(\"CO\")#['CO', 'NO', 'NO2', 'NOX', 'O3', 'PM10', 'SO2', 'PM2.5', 'PMCO']"
      ],
      "metadata": {
        "id": "7w_mSlrZ28_o"
      },
      "execution_count": null,
      "outputs": []
    },
    {
      "cell_type": "code",
      "source": [
        " df_graph=pd.read_csv(path + localPath +'CO_mediaPorEstacion3.csv')#para que no se agregue el índice de cada archiv"
      ],
      "metadata": {
        "id": "t42u8lq_3EAW"
      },
      "execution_count": null,
      "outputs": []
    },
    {
      "cell_type": "code",
      "source": [
        "df_graph[].unique()"
      ],
      "metadata": {
        "colab": {
          "base_uri": "https://localhost:8080/"
        },
        "id": "qGy5MtUd46_b",
        "outputId": "70973a39-c4c0-4716-b978-8d8344b15060"
      },
      "execution_count": null,
      "outputs": [
        {
          "output_type": "execute_result",
          "data": {
            "text/plain": [
              "array([0.72290021, 0.74604862, 0.7957303 , 0.94307663, 1.15616029,\n",
              "       0.91218052, 0.92277013, 0.78943395, 1.04495036, 0.47089464,\n",
              "       1.18081109, 0.60980665, 1.38034643, 0.97073363, 1.19073657,\n",
              "       1.29047673, 1.04203274, 0.57983906, 1.02201319, 0.74446536,\n",
              "       0.7236953 , 1.12591992, 1.10557505, 1.17849425, 0.87171653,\n",
              "       0.81732911, 1.04611628, 0.73600758, 1.54728219, 1.0624648 ])"
            ]
          },
          "metadata": {},
          "execution_count": 19
        }
      ]
    },
    {
      "cell_type": "code",
      "source": [
        "import matplotlib.pyplot as plt\n",
        "%matplotlib inline"
      ],
      "metadata": {
        "id": "tGZ9fzX74KU2"
      },
      "execution_count": null,
      "outputs": []
    },
    {
      "cell_type": "code",
      "source": [
        "\n",
        "df_graph[['max','mean','min','std']].plot()"
      ],
      "metadata": {
        "colab": {
          "base_uri": "https://localhost:8080/",
          "height": 283
        },
        "id": "3bBvjMlR4ad6",
        "outputId": "9633e5ea-aac4-463f-cc65-c90c5b673079"
      },
      "execution_count": null,
      "outputs": [
        {
          "output_type": "execute_result",
          "data": {
            "text/plain": [
              "<matplotlib.axes._subplots.AxesSubplot at 0x7fe6f3e52ad0>"
            ]
          },
          "metadata": {},
          "execution_count": 28
        },
        {
          "output_type": "display_data",
          "data": {
            "text/plain": [
              "<Figure size 432x288 with 1 Axes>"
            ],
            "image/png": "[encoded data removed]"
          },
          "metadata": {
            "needs_background": "light"
          }
        }
      ]
    },
    {
      "cell_type": "code",
      "source": [
        ""
      ],
      "metadata": {
        "id": "bSLLBBot4eeo"
      },
      "execution_count": null,
      "outputs": []
    }
  ]
}