{
  "nbformat": 4,
  "nbformat_minor": 0,
  "metadata": {
    "colab": {
      "name": "01_datawrangling.ipynb",
      "provenance": [],
      "mount_file_id": "1HlMR6X7ilqDBN9nf1GIketByYzhmLdwc",
      "authorship_tag": "ABX9TyNV/sHs28+x6sXQceQaxsxl"
    },
    "kernelspec": {
      "name": "python3",
      "display_name": "Python 3"
    },
    "language_info": {
      "name": "python"
    }
  },
  "cells": [
    {
      "cell_type": "code",
      "source": [
        "#Con este archivo obtenemos la media por mes de cada archivo obtenido de las estaciones\n",
        "#meteorológicas las cuales registraron los valores de los contaminantes con frecuencia\n",
        "#de una hora durante las 24 horas del día registrados en archivos csv por año. \n",
        "# En la función cambiamos el valor estadístico (media, mínimo, máximo y desviación estándar)\n",
        "\n",
        "import pandas as pd\n",
        "import glob, os\n"
      ],
      "metadata": {
        "id": "gl0XYo6O1POC"
      },
      "execution_count": null,
      "outputs": []
    },
    {
      "cell_type": "markdown",
      "source": [
        ""
      ],
      "metadata": {
        "id": "YJXHJRxp_2gm"
      }
    },
    {
      "cell_type": "code",
      "source": [
        "pd.set_option('display.max_columns', None)#Que se vean todas las columnas del csv"
      ],
      "metadata": {
        "id": "-q5doxGa_3qu"
      },
      "execution_count": null,
      "outputs": []
    },
    {
      "cell_type": "code",
      "source": [
        "path='/content/drive/MyDrive/UPIITA/CONTAMYMETEOROLOGIA/'\n"
      ],
      "metadata": {
        "id": "2nQpvqlr1zhY"
      },
      "execution_count": null,
      "outputs": []
    },
    {
      "cell_type": "code",
      "source": [
        "def mediasPorMes(archivo):\n",
        "    #archivo='contaminantes/contaminantes_2015.csv'\n",
        "    df = pd.read_csv(archivo,encoding='latin-1', skiprows=10)  #Las 10 primeras columnas tienen información del archivo\n",
        "    #De 2011 hacia atrás la columna id_station cambia de id_station a cve_station y Id_parameter cambia por cve_parameter\n",
        "    df=df.rename(columns = {list(df)[1]:'id_station'})\n",
        "    df=df.rename(columns = {list(df)[2]:'id_parameter'})\n",
        "    #Asignamos las medias de las mediciones de cada elemento a los valores nulos.\n",
        "    df['value'] = df['value'].fillna(df.groupby('id_parameter')['value'].transform('mean'))\n",
        "    #Si el parámetro no se midió en una estación podemos tomar el valor estadístico de las demás estaciones para éste    \n",
        "    df['value'] = df['value'].fillna(df.groupby(['id_station','id_parameter'])['value'].transform('mean'))\n",
        "    #Convertimos los campos 'date' y 'fecha' para poderlos procesar como fechas\n",
        "    df['date']= pd.to_datetime(df['date'],dayfirst=True, errors='coerce')\n",
        "    df['fecha']= pd.to_datetime(df['date'],dayfirst=True, errors='coerce')\n",
        "    df['fecha']=pd.to_datetime(df['fecha'])\n",
        "    df['fecha']= df['fecha'].dt.date\n",
        "    print(df['fecha'].head())\n",
        "    print(df['fecha'].dtypes)\n",
        "    df=df.dropna(subset=['fecha'])\n",
        "    df_mes = df.set_index('date').groupby([pd.Grouper(freq='M'),'id_station','id_parameter']).mean() #marzo 23 2022\n",
        "    #df_mes = df.set_index('date').groupby([pd.Grouper(freq='M'),'id_station','id_parameter']).agg(['min','mean','max','std'])\n",
        "    print(df_mes.head(10))\n",
        "    #print(archivo[64:])#para nombrar el archivo\n",
        "    #df_0_6 = df.set_index('date').groupby([pd.Grouper(freq='6H'),'id_station','id_parameter']).mean()\n",
        "    #df_0_6.to_csv('contaminantes/mediaspormes/medias6hrs'+archivo[27:])\n",
        "    \n",
        "    df_mes.to_csv('/content/drive/MyDrive/UPIITA/CONTAMYMETEOROLOGIA/contaminantes/aggPorMes/aggPorMes_'+archivo[64:])\n",
        "   "
      ],
      "metadata": {
        "id": "8FH4__NL2rpo"
      },
      "execution_count": null,
      "outputs": []
    },
    {
      "cell_type": "code",
      "source": [
        "substring = 'contaminantes'\n",
        "for file in glob.glob(\"/content/drive/MyDrive/UPIITA/CONTAMYMETEOROLOGIA/contaminantes/*.csv\"):\n",
        "    if substring in file:\n",
        "       archivo = file\n",
        "       mediasPorMes(archivo)\n"
      ],
      "metadata": {
        "colab": {
          "base_uri": "https://localhost:8080/",
          "height": 1000
        },
        "id": "awl47n9L2y5i",
        "outputId": "dac49d27-ea27-41e8-bd73-3ddd95502be3"
      },
      "execution_count": null,
      "outputs": [
        {
          "output_type": "stream",
          "name": "stdout",
          "text": [
            "0    2021-01-01\n",
            "1    2021-01-01\n",
            "2    2021-01-01\n",
            "3    2021-01-01\n",
            "4    2021-01-01\n",
            "Name: fecha, dtype: object\n",
            "object\n",
            "                                        value  unit\n",
            "date       id_station id_parameter                 \n",
            "2021-01-31 ACO        CO             0.363771  15.0\n",
            "                      NO            10.666551   1.0\n",
            "                      NO2           19.738866   1.0\n",
            "                      NOX           30.712201   1.0\n",
            "                      O3            31.176280   1.0\n",
            "                      PM10          58.480456   2.0\n",
            "                      SO2            2.888188   1.0\n",
            "           AJM        CO             0.363771  15.0\n",
            "                      NO            10.666551   1.0\n",
            "                      NO2           19.738866   1.0\n",
            "0    2020-01-01\n",
            "1    2020-01-01\n",
            "2    2020-01-01\n",
            "3    2020-01-01\n",
            "4    2020-01-01\n",
            "Name: fecha, dtype: object\n",
            "object\n",
            "                                        value  unit\n",
            "date       id_station id_parameter                 \n",
            "2020-01-31 ACO        CO             0.322925  15.0\n",
            "                      NO            10.282688   1.0\n",
            "                      NO2           18.978150   1.0\n",
            "                      NOX           29.624292   1.0\n",
            "                      O3            31.923724   1.0\n",
            "                      PM10          38.254228   2.0\n",
            "                      SO2            3.290064   1.0\n",
            "           AJM        CO             0.248674  15.0\n",
            "                      NO             7.635295   1.0\n",
            "                      NO2           18.828191   1.0\n",
            "0    2019-01-01\n",
            "1    2019-01-01\n",
            "2    2019-01-01\n",
            "3    2019-01-01\n",
            "4    2019-01-01\n",
            "Name: fecha, dtype: object\n",
            "object\n",
            "                                        value  unit\n",
            "date       id_station id_parameter                 \n",
            "2019-01-31 ACO        CO             0.337699  15.0\n",
            "                      NO             8.836226   1.0\n",
            "                      NO2           18.252443   1.0\n",
            "                      NOX           27.115493   1.0\n",
            "                      O3            26.707007   1.0\n",
            "                      PM10          58.675485   2.0\n",
            "                      SO2            2.364283   1.0\n",
            "           AJM        CO             0.237725  15.0\n",
            "                      NO             4.782162   1.0\n",
            "                      NO2           18.180376   1.0\n",
            "0    2018-01-01\n",
            "1    2018-01-01\n",
            "2    2018-01-01\n",
            "3    2018-01-01\n",
            "4    2018-01-01\n",
            "Name: fecha, dtype: object\n",
            "object\n",
            "                                        value  unit\n",
            "date       id_station id_parameter                 \n",
            "2018-01-31 ACO        CO             0.301913  15.0\n",
            "                      NO            11.448348   1.0\n",
            "                      NO2           21.241187   1.0\n",
            "                      NOX           32.686947   1.0\n",
            "                      O3            12.447808   1.0\n",
            "                      PM10          66.185182   2.0\n",
            "                      SO2            2.318962   1.0\n",
            "           AJM        CO             0.398785  15.0\n",
            "                      NO             7.096990   1.0\n",
            "                      NO2           23.573441   1.0\n",
            "0    2017-01-01\n",
            "1    2017-01-01\n",
            "2    2017-01-01\n",
            "3    2017-01-01\n",
            "4    2017-01-01\n",
            "Name: fecha, dtype: object\n",
            "object\n",
            "                                        value  unit\n",
            "date       id_station id_parameter                 \n",
            "2017-01-31 ACO        CO             0.391859  15.0\n",
            "                      NO            13.647110   1.0\n",
            "                      NO2           22.069249   1.0\n",
            "                      NOX           35.692262   1.0\n",
            "                      O3            28.332976   1.0\n",
            "                      PM10          70.903769   2.0\n",
            "                      SO2            2.791354   1.0\n",
            "           AJM        CO             0.567794  15.0\n",
            "                      NO             5.163991   1.0\n",
            "                      NO2           20.673097   1.0\n",
            "0    2016-01-01\n",
            "1    2016-01-01\n",
            "2    2016-01-01\n",
            "3    2016-01-01\n",
            "4    2016-01-01\n",
            "Name: fecha, dtype: object\n",
            "object\n",
            "                                        value  unit\n",
            "date       id_station id_parameter                 \n",
            "2016-01-31 ACO        CO             0.630127  15.0\n",
            "                      NO            17.111831   1.0\n",
            "                      NO2           25.222576   1.0\n",
            "                      NOX           42.332398   1.0\n",
            "                      O3            30.076723   1.0\n",
            "                      PM10          49.964813   2.0\n",
            "                      SO2            4.320672   1.0\n",
            "           AJM        CO             0.628798  15.0\n",
            "                      NO             7.028696   1.0\n",
            "                      NO2           20.271945   1.0\n",
            "0    2015-01-01\n",
            "1    2015-01-01\n",
            "2    2015-01-01\n",
            "3    2015-01-01\n",
            "4    2015-01-01\n",
            "Name: fecha, dtype: object\n",
            "object\n",
            "                                        value  unit\n",
            "date       id_station id_parameter                 \n",
            "2015-01-31 ACO        CO             0.346733  15.0\n",
            "                      NO             9.875340   1.0\n",
            "                      NO2           14.379139   1.0\n",
            "                      NOX           24.258638   1.0\n",
            "                      O3            28.553526   1.0\n",
            "                      PM10          38.692044   2.0\n",
            "                      SO2            1.688341   1.0\n",
            "           AJM        CO             0.624658  15.0\n",
            "                      NO             7.842338   1.0\n",
            "                      NO2           22.309732   1.0\n"
          ]
        },
        {
          "output_type": "error",
          "ename": "KeyError",
          "evalue": "ignored",
          "traceback": [
            "\u001b[0;31m---------------------------------------------------------------------------\u001b[0m",
            "\u001b[0;31mKeyError\u001b[0m                                  Traceback (most recent call last)",
            "\u001b[0;32m/usr/local/lib/python3.7/dist-packages/pandas/core/indexes/base.py\u001b[0m in \u001b[0;36mget_loc\u001b[0;34m(self, key, method, tolerance)\u001b[0m\n\u001b[1;32m   3360\u001b[0m             \u001b[0;32mtry\u001b[0m\u001b[0;34m:\u001b[0m\u001b[0;34m\u001b[0m\u001b[0;34m\u001b[0m\u001b[0m\n\u001b[0;32m-> 3361\u001b[0;31m                 \u001b[0;32mreturn\u001b[0m \u001b[0mself\u001b[0m\u001b[0;34m.\u001b[0m\u001b[0m_engine\u001b[0m\u001b[0;34m.\u001b[0m\u001b[0mget_loc\u001b[0m\u001b[0;34m(\u001b[0m\u001b[0mcasted_key\u001b[0m\u001b[0;34m)\u001b[0m\u001b[0;34m\u001b[0m\u001b[0;34m\u001b[0m\u001b[0m\n\u001b[0m\u001b[1;32m   3362\u001b[0m             \u001b[0;32mexcept\u001b[0m \u001b[0mKeyError\u001b[0m \u001b[0;32mas\u001b[0m \u001b[0merr\u001b[0m\u001b[0;34m:\u001b[0m\u001b[0;34m\u001b[0m\u001b[0;34m\u001b[0m\u001b[0m\n",
            "\u001b[0;32m/usr/local/lib/python3.7/dist-packages/pandas/_libs/index.pyx\u001b[0m in \u001b[0;36mpandas._libs.index.IndexEngine.get_loc\u001b[0;34m()\u001b[0m\n",
            "\u001b[0;32m/usr/local/lib/python3.7/dist-packages/pandas/_libs/index.pyx\u001b[0m in \u001b[0;36mpandas._libs.index.IndexEngine.get_loc\u001b[0;34m()\u001b[0m\n",
            "\u001b[0;32mpandas/_libs/hashtable_class_helper.pxi\u001b[0m in \u001b[0;36mpandas._libs.hashtable.PyObjectHashTable.get_item\u001b[0;34m()\u001b[0m\n",
            "\u001b[0;32mpandas/_libs/hashtable_class_helper.pxi\u001b[0m in \u001b[0;36mpandas._libs.hashtable.PyObjectHashTable.get_item\u001b[0;34m()\u001b[0m\n",
            "\u001b[0;31mKeyError\u001b[0m: 'value'",
            "\nThe above exception was the direct cause of the following exception:\n",
            "\u001b[0;31mKeyError\u001b[0m                                  Traceback (most recent call last)",
            "\u001b[0;32m<ipython-input-38-ece4bd5a552a>\u001b[0m in \u001b[0;36m<module>\u001b[0;34m()\u001b[0m\n\u001b[1;32m      3\u001b[0m     \u001b[0;32mif\u001b[0m \u001b[0msubstring\u001b[0m \u001b[0;32min\u001b[0m \u001b[0mfile\u001b[0m\u001b[0;34m:\u001b[0m\u001b[0;34m\u001b[0m\u001b[0;34m\u001b[0m\u001b[0m\n\u001b[1;32m      4\u001b[0m        \u001b[0marchivo\u001b[0m \u001b[0;34m=\u001b[0m \u001b[0mfile\u001b[0m\u001b[0;34m\u001b[0m\u001b[0;34m\u001b[0m\u001b[0m\n\u001b[0;32m----> 5\u001b[0;31m        \u001b[0mmediasPorMes\u001b[0m\u001b[0;34m(\u001b[0m\u001b[0marchivo\u001b[0m\u001b[0;34m)\u001b[0m\u001b[0;34m\u001b[0m\u001b[0;34m\u001b[0m\u001b[0m\n\u001b[0m",
            "\u001b[0;32m<ipython-input-37-4c01c960540c>\u001b[0m in \u001b[0;36mmediasPorMes\u001b[0;34m(archivo)\u001b[0m\n\u001b[1;32m      6\u001b[0m     \u001b[0mdf\u001b[0m\u001b[0;34m=\u001b[0m\u001b[0mdf\u001b[0m\u001b[0;34m.\u001b[0m\u001b[0mrename\u001b[0m\u001b[0;34m(\u001b[0m\u001b[0mcolumns\u001b[0m \u001b[0;34m=\u001b[0m \u001b[0;34m{\u001b[0m\u001b[0mlist\u001b[0m\u001b[0;34m(\u001b[0m\u001b[0mdf\u001b[0m\u001b[0;34m)\u001b[0m\u001b[0;34m[\u001b[0m\u001b[0;36m2\u001b[0m\u001b[0;34m]\u001b[0m\u001b[0;34m:\u001b[0m\u001b[0;34m'id_parameter'\u001b[0m\u001b[0;34m}\u001b[0m\u001b[0;34m)\u001b[0m\u001b[0;34m\u001b[0m\u001b[0;34m\u001b[0m\u001b[0m\n\u001b[1;32m      7\u001b[0m     \u001b[0;31m#Asignamos las medias de las mediciones de cada elemento a los valores nulos.\u001b[0m\u001b[0;34m\u001b[0m\u001b[0;34m\u001b[0m\u001b[0;34m\u001b[0m\u001b[0m\n\u001b[0;32m----> 8\u001b[0;31m     \u001b[0mdf\u001b[0m\u001b[0;34m[\u001b[0m\u001b[0;34m'value'\u001b[0m\u001b[0;34m]\u001b[0m \u001b[0;34m=\u001b[0m \u001b[0mdf\u001b[0m\u001b[0;34m[\u001b[0m\u001b[0;34m'value'\u001b[0m\u001b[0;34m]\u001b[0m\u001b[0;34m.\u001b[0m\u001b[0mfillna\u001b[0m\u001b[0;34m(\u001b[0m\u001b[0mdf\u001b[0m\u001b[0;34m.\u001b[0m\u001b[0mgroupby\u001b[0m\u001b[0;34m(\u001b[0m\u001b[0;34m'id_parameter'\u001b[0m\u001b[0;34m)\u001b[0m\u001b[0;34m[\u001b[0m\u001b[0;34m'value'\u001b[0m\u001b[0;34m]\u001b[0m\u001b[0;34m.\u001b[0m\u001b[0mtransform\u001b[0m\u001b[0;34m(\u001b[0m\u001b[0;34m'mean'\u001b[0m\u001b[0;34m)\u001b[0m\u001b[0;34m)\u001b[0m\u001b[0;34m\u001b[0m\u001b[0;34m\u001b[0m\u001b[0m\n\u001b[0m\u001b[1;32m      9\u001b[0m     \u001b[0;31m#Si el parámetro no se midió en una estación podemos tomar el valor estadístico de las demás estaciones para éste\u001b[0m\u001b[0;34m\u001b[0m\u001b[0;34m\u001b[0m\u001b[0;34m\u001b[0m\u001b[0m\n\u001b[1;32m     10\u001b[0m     \u001b[0mdf\u001b[0m\u001b[0;34m[\u001b[0m\u001b[0;34m'value'\u001b[0m\u001b[0;34m]\u001b[0m \u001b[0;34m=\u001b[0m \u001b[0mdf\u001b[0m\u001b[0;34m[\u001b[0m\u001b[0;34m'value'\u001b[0m\u001b[0;34m]\u001b[0m\u001b[0;34m.\u001b[0m\u001b[0mfillna\u001b[0m\u001b[0;34m(\u001b[0m\u001b[0mdf\u001b[0m\u001b[0;34m.\u001b[0m\u001b[0mgroupby\u001b[0m\u001b[0;34m(\u001b[0m\u001b[0;34m[\u001b[0m\u001b[0;34m'id_station'\u001b[0m\u001b[0;34m,\u001b[0m\u001b[0;34m'id_parameter'\u001b[0m\u001b[0;34m]\u001b[0m\u001b[0;34m)\u001b[0m\u001b[0;34m[\u001b[0m\u001b[0;34m'value'\u001b[0m\u001b[0;34m]\u001b[0m\u001b[0;34m.\u001b[0m\u001b[0mtransform\u001b[0m\u001b[0;34m(\u001b[0m\u001b[0;34m'mean'\u001b[0m\u001b[0;34m)\u001b[0m\u001b[0;34m)\u001b[0m\u001b[0;34m\u001b[0m\u001b[0;34m\u001b[0m\u001b[0m\n",
            "\u001b[0;32m/usr/local/lib/python3.7/dist-packages/pandas/core/frame.py\u001b[0m in \u001b[0;36m__getitem__\u001b[0;34m(self, key)\u001b[0m\n\u001b[1;32m   3456\u001b[0m             \u001b[0;32mif\u001b[0m \u001b[0mself\u001b[0m\u001b[0;34m.\u001b[0m\u001b[0mcolumns\u001b[0m\u001b[0;34m.\u001b[0m\u001b[0mnlevels\u001b[0m \u001b[0;34m>\u001b[0m \u001b[0;36m1\u001b[0m\u001b[0;34m:\u001b[0m\u001b[0;34m\u001b[0m\u001b[0;34m\u001b[0m\u001b[0m\n\u001b[1;32m   3457\u001b[0m                 \u001b[0;32mreturn\u001b[0m \u001b[0mself\u001b[0m\u001b[0;34m.\u001b[0m\u001b[0m_getitem_multilevel\u001b[0m\u001b[0;34m(\u001b[0m\u001b[0mkey\u001b[0m\u001b[0;34m)\u001b[0m\u001b[0;34m\u001b[0m\u001b[0;34m\u001b[0m\u001b[0m\n\u001b[0;32m-> 3458\u001b[0;31m             \u001b[0mindexer\u001b[0m \u001b[0;34m=\u001b[0m \u001b[0mself\u001b[0m\u001b[0;34m.\u001b[0m\u001b[0mcolumns\u001b[0m\u001b[0;34m.\u001b[0m\u001b[0mget_loc\u001b[0m\u001b[0;34m(\u001b[0m\u001b[0mkey\u001b[0m\u001b[0;34m)\u001b[0m\u001b[0;34m\u001b[0m\u001b[0;34m\u001b[0m\u001b[0m\n\u001b[0m\u001b[1;32m   3459\u001b[0m             \u001b[0;32mif\u001b[0m \u001b[0mis_integer\u001b[0m\u001b[0;34m(\u001b[0m\u001b[0mindexer\u001b[0m\u001b[0;34m)\u001b[0m\u001b[0;34m:\u001b[0m\u001b[0;34m\u001b[0m\u001b[0;34m\u001b[0m\u001b[0m\n\u001b[1;32m   3460\u001b[0m                 \u001b[0mindexer\u001b[0m \u001b[0;34m=\u001b[0m \u001b[0;34m[\u001b[0m\u001b[0mindexer\u001b[0m\u001b[0;34m]\u001b[0m\u001b[0;34m\u001b[0m\u001b[0;34m\u001b[0m\u001b[0m\n",
            "\u001b[0;32m/usr/local/lib/python3.7/dist-packages/pandas/core/indexes/base.py\u001b[0m in \u001b[0;36mget_loc\u001b[0;34m(self, key, method, tolerance)\u001b[0m\n\u001b[1;32m   3361\u001b[0m                 \u001b[0;32mreturn\u001b[0m \u001b[0mself\u001b[0m\u001b[0;34m.\u001b[0m\u001b[0m_engine\u001b[0m\u001b[0;34m.\u001b[0m\u001b[0mget_loc\u001b[0m\u001b[0;34m(\u001b[0m\u001b[0mcasted_key\u001b[0m\u001b[0;34m)\u001b[0m\u001b[0;34m\u001b[0m\u001b[0;34m\u001b[0m\u001b[0m\n\u001b[1;32m   3362\u001b[0m             \u001b[0;32mexcept\u001b[0m \u001b[0mKeyError\u001b[0m \u001b[0;32mas\u001b[0m \u001b[0merr\u001b[0m\u001b[0;34m:\u001b[0m\u001b[0;34m\u001b[0m\u001b[0;34m\u001b[0m\u001b[0m\n\u001b[0;32m-> 3363\u001b[0;31m                 \u001b[0;32mraise\u001b[0m \u001b[0mKeyError\u001b[0m\u001b[0;34m(\u001b[0m\u001b[0mkey\u001b[0m\u001b[0;34m)\u001b[0m \u001b[0;32mfrom\u001b[0m \u001b[0merr\u001b[0m\u001b[0;34m\u001b[0m\u001b[0;34m\u001b[0m\u001b[0m\n\u001b[0m\u001b[1;32m   3364\u001b[0m \u001b[0;34m\u001b[0m\u001b[0m\n\u001b[1;32m   3365\u001b[0m         \u001b[0;32mif\u001b[0m \u001b[0mis_scalar\u001b[0m\u001b[0;34m(\u001b[0m\u001b[0mkey\u001b[0m\u001b[0;34m)\u001b[0m \u001b[0;32mand\u001b[0m \u001b[0misna\u001b[0m\u001b[0;34m(\u001b[0m\u001b[0mkey\u001b[0m\u001b[0;34m)\u001b[0m \u001b[0;32mand\u001b[0m \u001b[0;32mnot\u001b[0m \u001b[0mself\u001b[0m\u001b[0;34m.\u001b[0m\u001b[0mhasnans\u001b[0m\u001b[0;34m:\u001b[0m\u001b[0;34m\u001b[0m\u001b[0;34m\u001b[0m\u001b[0m\n",
            "\u001b[0;31mKeyError\u001b[0m: 'value'"
          ]
        }
      ]
    },
    {
      "cell_type": "code",
      "source": [
        ""
      ],
      "metadata": {
        "id": "Z0C541UY3YyX"
      },
      "execution_count": null,
      "outputs": []
    }
  ]
}